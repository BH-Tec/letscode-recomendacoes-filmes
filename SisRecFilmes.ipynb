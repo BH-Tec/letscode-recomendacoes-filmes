{
 "cells": [
  {
   "cell_type": "code",
   "execution_count": 1,
   "metadata": {},
   "outputs": [],
   "source": [
    "import os\n",
    "import numpy as np\n",
    "import pandas as pd\n",
    "import matplotlib.pyplot as plt"
   ]
  },
  {
   "cell_type": "code",
   "execution_count": null,
   "metadata": {},
   "outputs": [],
   "source": [
    "# Printar os detalhjes das quantidades de usuários, filmes e quantas vezes esses filmes receberam avaliações\n",
    "overall_stats = pd.read_csv('u.info', header=None)\n",
    "print(\"Detalhes de usuários, filmes e avaliações:\", list(overall_stats[0]))"
   ]
  },
  {
   "cell_type": "code",
   "execution_count": null,
   "metadata": {},
   "outputs": [],
   "source": [
    "# O mesmo id para o item é o mesmo id do filme e a coluna é o id renomeada para o id do filme\n",
    "\n",
    "column_names1 = ['Id_Usuario', 'Id_Filme', 'Avaliações', 'timestamp']\n",
    "dataset = pd.read_csv('u.data', sep='\\t', header=None, names=column_names1)\n",
    "dataset.head()"
   ]
  },
  {
   "cell_type": "code",
   "execution_count": null,
   "metadata": {},
   "outputs": [],
   "source": [
    "# Quantidade de avaliações por usuário\n",
    "dataset['Id_Usuário'].value_counts()"
   ]
  },
  {
   "cell_type": "code",
   "execution_count": null,
   "metadata": {},
   "outputs": [],
   "source": [
    "d = 'movie id | movie title | release date | video release date | IMDb URL | unknown | Action | Adventure | Animation | Children | Comedy | Crime | Documentary | Drama | Fantasy | Film-Noir | Horror | Musical | Mystery | Romance | Sci-Fi | Thriller | War | Western'\n",
    "column_names2 = d.split(' | ')\n",
    "column_names2"
   ]
  },
  {
   "cell_type": "code",
   "execution_count": null,
   "metadata": {},
   "outputs": [],
   "source": [
    "items_dataset = pd.read_csv('u.Item', sep='|', header=None, names=column_names2, encoding='latin-1')\n",
    "items_dataset"
   ]
  },
  {
   "cell_type": "code",
   "execution_count": null,
   "metadata": {},
   "outputs": [],
   "source": [
    "# Pegando as informações dos títulos dos filmes\n",
    "movie_dataset = items_dataset[['movie id', 'movie title']]\n",
    "movie_dataset.rename(columns={'movie id':'Id_Filme', 'movie title': 'Título do Filme'}, inplace=True)\n",
    "movie_dataset.head()"
   ]
  },
  {
   "cell_type": "code",
   "execution_count": null,
   "metadata": {},
   "outputs": [],
   "source": [
    "merged_dataset = pd.merge(dataset, movie_dataset, how='inner', on='Id_Filme')\n",
    "merged_dataset.head()"
   ]
  },
  {
   "cell_type": "code",
   "execution_count": null,
   "metadata": {},
   "outputs": [],
   "source": [
    "merged_dataset.shape"
   ]
  },
  {
   "cell_type": "code",
   "execution_count": null,
   "metadata": {},
   "outputs": [],
   "source": [
    "# Quantidade de avaliações dos filmes\n",
    "numero_avaliacoes = merged_dataset.groupby('Titulo do Filme')['Avaliações'].count().reset_index()\n"
   ]
  },
  {
   "cell_type": "code",
   "execution_count": null,
   "metadata": {},
   "outputs": [],
   "source": [
    "numero_avaliacoes"
   ]
  },
  {
   "cell_type": "code",
   "execution_count": null,
   "metadata": {},
   "outputs": [],
   "source": [
    "# Juntando a tabela de filmes com os Ratings com a tabela de quantidade de ratings por filmes\n",
    "numero_avaliacoes_final = merged_dataset.merge(numero_avaliacoes,on='Titulo do Filme')"
   ]
  },
  {
   "cell_type": "code",
   "execution_count": null,
   "metadata": {},
   "outputs": [],
   "source": [
    "numero_avaliacoes_final"
   ]
  },
  {
   "cell_type": "code",
   "execution_count": null,
   "metadata": {},
   "outputs": [],
   "source": [
    "# Filtrar apenas os filmes com pelo menos 20 avaliações\n",
    "merged_dataset_final = numero_avaliacoes_final[numero_avaliacoes_final['Avaliações_y']>=20]\n",
    "merged_dataset_final.shape"
   ]
  },
  {
   "cell_type": "code",
   "execution_count": null,
   "metadata": {},
   "outputs": [],
   "source": [
    "merged_dataset_final.rename(columns={'Avaliações_x': 'Avaliações', 'Avaliações_y': 'Numero de avaliações'}, inplace=True)"
   ]
  },
  {
   "cell_type": "code",
   "execution_count": null,
   "metadata": {},
   "outputs": [],
   "source": [
    "merged_dataset_final.head()"
   ]
  },
  {
   "cell_type": "code",
   "execution_count": null,
   "metadata": {},
   "outputs": [],
   "source": [
    "# Descartando os valores duplicados\n",
    "merged_dataset_final.drop_duplicates(['Id_Usuário', 'Titulo do filme'], inplace=True)\n",
    "merged_dataset_final"
   ]
  },
  {
   "cell_type": "code",
   "execution_count": null,
   "metadata": {},
   "outputs": [],
   "source": [
    "# Transpor usuáris em colunas\n",
    "Filmes_pivot = merged_dataset_final.pivot_table(columns='Titulo do Filme', index='Id_Usuario', values='Avaliações')"
   ]
  },
  {
   "cell_type": "code",
   "execution_count": null,
   "metadata": {},
   "outputs": [],
   "source": [
    "Filmes_pivot.head()"
   ]
  },
  {
   "cell_type": "code",
   "execution_count": null,
   "metadata": {},
   "outputs": [],
   "source": [
    "# Substituindo os valores não avaliados com 0\n",
    "Filmes_pivot = Filmes_pivot.fillna(0)"
   ]
  },
  {
   "cell_type": "code",
   "execution_count": null,
   "metadata": {},
   "outputs": [],
   "source": [
    "Filmes_pivot.head()"
   ]
  },
  {
   "cell_type": "code",
   "execution_count": null,
   "metadata": {},
   "outputs": [],
   "source": [
    "# Trabalhando com matrizes esparsa\n",
    "from scipy.sparse import csr_matrix\n",
    "Filmes_sparse = crs_matrix(Filmes_pivot)"
   ]
  },
  {
   "cell_type": "code",
   "execution_count": 3,
   "metadata": {},
   "outputs": [],
   "source": [
    "def similar_users(user_id, matrix, k=5):\n",
    "    # criar um dataframe somente para usuarios que deseja-se recomendar os filmes\n",
    "    user = matrix[matrix.index == user_id]\n",
    "    \n",
    "    # criar um dataframe para os outros usuarios\n",
    "    other_user = matrix[matrix.index != user_id]\n",
    "\n",
    "    # calcular a similaridade do cosseno entre o usuario desejado e todos os outros\n",
    "    similarities = cosine_similarity(user, other_user)[0].tolist()\n",
    "\n",
    "    # criar um indice para esses usuarios\n",
    "    indices - other_user.index.tolist()\n",
    "\n",
    "    # criar um dicionario com os pares dos usuarios e os indices de similaridades\n",
    "    index_similarity = dict(zip(indices, similarities))\n",
    "\n",
    "    # ordenar por similaridade\n",
    "    index_similarity_sorted = sorted(index_similarity.items(), key=operator.itemgetter(1))\n",
    "    index_similarity_sorted.reverse()\n",
    "\n",
    "    # colocar os usuarios mais similares no topo e retornar os 5 mais similares\n",
    "    top_user_similarities = index_similarity_sorted[:k]\n",
    "    user = [u[0] for u in top_user_similarities]\n",
    "\n",
    "    return users\n",
    "\n",
    "current_user = 1\n",
    "\n",
    "#try it out\n",
    "similar_users_indices = similar_users(current_user, Filmes_pivot)\n",
    "print(similar_users_indices)"
   ]
  },
  {
   "cell_type": "code",
   "execution_count": null,
   "metadata": {},
   "outputs": [],
   "source": [
    "def recomend_item(user_index, similar_users_indices, matrix, items=10):\n",
    "\n",
    "    # carregando o vetor com os usuarios similares\n",
    "    similar_users = matrix[matrix.index.isin(similar_users_indices)]\n",
    "\n",
    "    # calculando a media\n",
    "    similar_users = similar_users.mean(axis=0)\n",
    "\n",
    "    # converter em um dataframe\n",
    "    similar_users_df = pd.DataFrame(similar_users, columns=['média'])\n",
    "\n",
    "    # carregando o vetor para o usuario que se deseja recomendar o filme\n",
    "    user_df = matrix[matrix.index == user_index]\n",
    "    # transpor o dataframe para filtrar\n",
    "    user_df_transposed = user_df.transpose()\n",
    "    # renomear a coluna para avaliações\n",
    "    user_df_transposed.columns = ['Avaliações']\n",
    "    # remover qualquer linha com avaliação 0\n",
    "    user_df_transposed = user_df_transposed[user_df_transposed['Avaliações']==0]\n",
    "    # gerar uma lista\n",
    "    filmes_unvisited = user_df_transposed.index.tolist()\n",
    "\n",
    "    # filtra a media\n",
    "    similar_users_df_filtered = similar_users_df[similar_users_df.index.isin(filmes_unvisited)]\n",
    "    # ordenar os filmes com melhores notas\n",
    "    similar_user_df_ordered = similar_users_df_filtered.sort_values(by=['media'], ascending=false)\n",
    "    # pegar os filmes com melhores notas\n",
    "    top_n_filmes = similar_user_df_ordered(items)\n",
    "\n",
    "    return top_n_filmes\n",
    "\n",
    "# recomendar os filmes\n",
    "df_recomend = recomend_item(1, similar_users_indices, Filmes_pivot)\n"
   ]
  },
  {
   "cell_type": "code",
   "execution_count": null,
   "metadata": {},
   "outputs": [],
   "source": [
    "df_recomend"
   ]
  }
 ],
 "metadata": {
  "kernelspec": {
   "display_name": "Python 3.9.12 ('base')",
   "language": "python",
   "name": "python3"
  },
  "language_info": {
   "codemirror_mode": {
    "name": "ipython",
    "version": 3
   },
   "file_extension": ".py",
   "mimetype": "text/x-python",
   "name": "python",
   "nbconvert_exporter": "python",
   "pygments_lexer": "ipython3",
   "version": "3.9.12"
  },
  "orig_nbformat": 4,
  "vscode": {
   "interpreter": {
    "hash": "9febd13ef0c7e7a723ae581e239a544f36b8ac9e5c9c424724674a8e3ebede23"
   }
  }
 },
 "nbformat": 4,
 "nbformat_minor": 2
}
